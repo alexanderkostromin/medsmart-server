{
 "cells": [
  {
   "cell_type": "markdown",
   "metadata": {},
   "source": [
    "# Модели для распознования пневмонии"
   ]
  },
  {
   "cell_type": "markdown",
   "metadata": {},
   "source": [
    "Датасет организован в 3 папки (train, test, val) и содержит подпапки для каждой категории изображений (Пневмония/Нормальные). Есть 5866 рентгеновских изображений в формате JPEG и 2 категории (Пневмония/Нормальные).\n",
    "\n",
    "Рентгеновские снимки клетки (переднего-заднего плана) были отобраны из ретроспективных когорт педиатрических пациентов в возрасте от одного до пяти лет из Женского и детского медицинского центра Гуанчжоу. Все рентгеновские снимки грудной клетки проводились в рамках обычной клинической помощи пациентам.\n",
    "\n",
    "Для анализа рентгеновских изображений грудной клетки все ренгенограммы грудной клетки были первоначально проверены на контроль качества путем удаления всех низкокачественных или нечитаемых сканов. Зате диагнозы для изображений были оценены двумя врачами-экспертами, прежде чем они были очищены для дальнейшего исопльзования. Чтобы учесть любые ошибки оценки, набор оценок также был проверен третьим экспертом."
   ]
  },
  {
   "cell_type": "markdown",
   "metadata": {},
   "source": [
    "## Импортирование пакетов"
   ]
  },
  {
   "cell_type": "code",
   "execution_count": 1,
   "metadata": {
    "ExecuteTime": {
     "end_time": "2024-04-18T18:07:02.968622600Z",
     "start_time": "2024-04-18T18:07:00.879232400Z"
    }
   },
   "outputs": [
    {
     "name": "stderr",
     "output_type": "stream",
     "text": [
      "2024-05-01 08:06:18.262155: I tensorflow/core/platform/cpu_feature_guard.cc:210] This TensorFlow binary is optimized to use available CPU instructions in performance-critical operations.\n",
      "To enable the following instructions: AVX2 FMA, in other operations, rebuild TensorFlow with the appropriate compiler flags.\n"
     ]
    }
   ],
   "source": [
    "from tensorflow.keras.layers import Conv2D, Flatten, Dense, MaxPooling2D, Dropout, Activation, GlobalAveragePooling2D\n",
    "from tensorflow.keras.preprocessing.image import ImageDataGenerator\n",
    "from tensorflow.keras.models import Sequential, Model\n",
    "from tensorflow.keras.callbacks import ModelCheckpoint\n",
    "from tensorflow.keras.applications import ResNet50V2\n",
    "import matplotlib.pyplot as plt\n",
    "from math import ceil\n",
    "import tensorflow as tf\n",
    "import time\n",
    "from PIL import Image\n",
    "from tensorflow.keras.metrics import F1Score, Precision, Recall\n",
    "import pandas as pd"
   ]
  },
  {
   "cell_type": "markdown",
   "metadata": {},
   "source": [
    "## Определение директорий для наборов данных"
   ]
  },
  {
   "cell_type": "code",
   "execution_count": 2,
   "metadata": {
    "ExecuteTime": {
     "end_time": "2024-04-18T18:07:02.971230900Z",
     "start_time": "2024-04-18T18:07:02.970224800Z"
    }
   },
   "outputs": [],
   "source": [
    "train_dir = 'chest_xray/train/'\n",
    "val_dir = 'chest_xray/val/'\n",
    "test_dir = 'chest_xray/test/'"
   ]
  },
  {
   "cell_type": "markdown",
   "metadata": {},
   "source": [
    "## Общие параметры"
   ]
  },
  {
   "cell_type": "code",
   "execution_count": 3,
   "metadata": {
    "ExecuteTime": {
     "end_time": "2024-04-18T18:07:03.059086900Z",
     "start_time": "2024-04-18T18:07:02.971230900Z"
    }
   },
   "outputs": [
    {
     "name": "stdout",
     "output_type": "stream",
     "text": [
      "Found 5032 images belonging to 2 classes.\n",
      "Found 200 images belonging to 2 classes.\n",
      "Found 624 images belonging to 2 classes.\n"
     ]
    }
   ],
   "source": [
    "IMAGE_SIZE = (224, 224)\n",
    "BATCH_SIZE = 16\n",
    "EPOCHS = 15\n",
    "nb_train_samples = 5032  \n",
    "nb_validation_samples = 200\n",
    "\n",
    "# Создание генератора данных для обучения с аугментацией\n",
    "train_datagen = ImageDataGenerator(\n",
    "    rescale=1/255,  # Нормализация значений пикселей изображений [0, 255] -> [0, 1]\n",
    "    horizontal_flip=True,  # Случайное горизонтальное отражение изображений для аугментации\n",
    "    brightness_range=[0.5, 2.0],  # Диапазон для случайного изменения яркости изображений\n",
    "    width_shift_range=0.2,  # Диапазон для случайного горизонтального сдвига изображений\n",
    "    rotation_range=20,  # Диапазон для случайного поворота изображений\n",
    "    zoom_range=0.2,  # Диапазон для случайного масштабирования изображений\n",
    "    shear_range=0.1,  # Диапазон для случайного сдвига изображений\n",
    "    fill_mode='nearest'  # Метод заполнения новых пикселей, которые могут появиться после аугментации\n",
    ")\n",
    "\n",
    "# Создание генератора данных для валидации и тестирования без аугментации, только нормализация\n",
    "val_datagen = ImageDataGenerator(rescale=1./255)\n",
    "\n",
    "# Подготовка генератора данных для обучения\n",
    "train_generator = train_datagen.flow_from_directory(\n",
    "    train_dir,\n",
    "    target_size=IMAGE_SIZE,  # Целевой размер изображений, к которому они будут изменены\n",
    "    batch_size=BATCH_SIZE,  # Размер батча\n",
    "    class_mode='binary'  # Режим классификации ('binary' для бинарной классификации)\n",
    ")\n",
    "\n",
    "# Подготовка генератора данных для валидации\n",
    "val_generator = val_datagen.flow_from_directory(\n",
    "    val_dir,\n",
    "    target_size=IMAGE_SIZE,  # Целевой размер изображений\n",
    "    batch_size=BATCH_SIZE,  # Размер батча\n",
    "    class_mode='binary'  # Режим классификации\n",
    ")\n",
    "\n",
    "# Подготовка генератора данных для тестирования\n",
    "test_generator = val_datagen.flow_from_directory(\n",
    "    test_dir,\n",
    "    target_size=IMAGE_SIZE,  # Целевой размер изображений\n",
    "    batch_size=BATCH_SIZE,  # Размер батча\n",
    "    class_mode='binary'  # Режим классификации\n",
    ")"
   ]
  },
  {
   "cell_type": "markdown",
   "metadata": {},
   "source": [
    "## CNN"
   ]
  },
  {
   "cell_type": "markdown",
   "metadata": {},
   "source": [
    "### Настройка модели CNN"
   ]
  },
  {
   "cell_type": "code",
   "execution_count": 4,
   "metadata": {
    "ExecuteTime": {
     "end_time": "2024-04-18T18:07:04.788157400Z",
     "start_time": "2024-04-18T18:07:04.695365700Z"
    }
   },
   "outputs": [
    {
     "name": "stderr",
     "output_type": "stream",
     "text": [
      "/Library/Frameworks/Python.framework/Versions/3.12/lib/python3.12/site-packages/keras/src/layers/convolutional/base_conv.py:99: UserWarning: Do not pass an `input_shape`/`input_dim` argument to a layer. When using Sequential models, prefer using an `Input(shape)` object as the first layer in the model instead.\n",
      "  super().__init__(\n"
     ]
    },
    {
     "data": {
      "text/html": [
       "<pre style=\"white-space:pre;overflow-x:auto;line-height:normal;font-family:Menlo,'DejaVu Sans Mono',consolas,'Courier New',monospace\"><span style=\"font-weight: bold\">Model: \"sequential\"</span>\n",
       "</pre>\n"
      ],
      "text/plain": [
       "\u001b[1mModel: \"sequential\"\u001b[0m\n"
      ]
     },
     "metadata": {},
     "output_type": "display_data"
    },
    {
     "data": {
      "text/html": [
       "<pre style=\"white-space:pre;overflow-x:auto;line-height:normal;font-family:Menlo,'DejaVu Sans Mono',consolas,'Courier New',monospace\">┏━━━━━━━━━━━━━━━━━━━━━━━━━━━━━━━━━┳━━━━━━━━━━━━━━━━━━━━━━━━┳━━━━━━━━━━━━━━━┓\n",
       "┃<span style=\"font-weight: bold\"> Layer (type)                    </span>┃<span style=\"font-weight: bold\"> Output Shape           </span>┃<span style=\"font-weight: bold\">       Param # </span>┃\n",
       "┡━━━━━━━━━━━━━━━━━━━━━━━━━━━━━━━━━╇━━━━━━━━━━━━━━━━━━━━━━━━╇━━━━━━━━━━━━━━━┩\n",
       "│ conv2d (<span style=\"color: #0087ff; text-decoration-color: #0087ff\">Conv2D</span>)                 │ (<span style=\"color: #00d7ff; text-decoration-color: #00d7ff\">None</span>, <span style=\"color: #00af00; text-decoration-color: #00af00\">222</span>, <span style=\"color: #00af00; text-decoration-color: #00af00\">222</span>, <span style=\"color: #00af00; text-decoration-color: #00af00\">32</span>)   │           <span style=\"color: #00af00; text-decoration-color: #00af00\">896</span> │\n",
       "├─────────────────────────────────┼────────────────────────┼───────────────┤\n",
       "│ activation (<span style=\"color: #0087ff; text-decoration-color: #0087ff\">Activation</span>)         │ (<span style=\"color: #00d7ff; text-decoration-color: #00d7ff\">None</span>, <span style=\"color: #00af00; text-decoration-color: #00af00\">222</span>, <span style=\"color: #00af00; text-decoration-color: #00af00\">222</span>, <span style=\"color: #00af00; text-decoration-color: #00af00\">32</span>)   │             <span style=\"color: #00af00; text-decoration-color: #00af00\">0</span> │\n",
       "├─────────────────────────────────┼────────────────────────┼───────────────┤\n",
       "│ max_pooling2d (<span style=\"color: #0087ff; text-decoration-color: #0087ff\">MaxPooling2D</span>)    │ (<span style=\"color: #00d7ff; text-decoration-color: #00d7ff\">None</span>, <span style=\"color: #00af00; text-decoration-color: #00af00\">111</span>, <span style=\"color: #00af00; text-decoration-color: #00af00\">111</span>, <span style=\"color: #00af00; text-decoration-color: #00af00\">32</span>)   │             <span style=\"color: #00af00; text-decoration-color: #00af00\">0</span> │\n",
       "├─────────────────────────────────┼────────────────────────┼───────────────┤\n",
       "│ conv2d_1 (<span style=\"color: #0087ff; text-decoration-color: #0087ff\">Conv2D</span>)               │ (<span style=\"color: #00d7ff; text-decoration-color: #00d7ff\">None</span>, <span style=\"color: #00af00; text-decoration-color: #00af00\">109</span>, <span style=\"color: #00af00; text-decoration-color: #00af00\">109</span>, <span style=\"color: #00af00; text-decoration-color: #00af00\">32</span>)   │         <span style=\"color: #00af00; text-decoration-color: #00af00\">9,248</span> │\n",
       "├─────────────────────────────────┼────────────────────────┼───────────────┤\n",
       "│ activation_1 (<span style=\"color: #0087ff; text-decoration-color: #0087ff\">Activation</span>)       │ (<span style=\"color: #00d7ff; text-decoration-color: #00d7ff\">None</span>, <span style=\"color: #00af00; text-decoration-color: #00af00\">109</span>, <span style=\"color: #00af00; text-decoration-color: #00af00\">109</span>, <span style=\"color: #00af00; text-decoration-color: #00af00\">32</span>)   │             <span style=\"color: #00af00; text-decoration-color: #00af00\">0</span> │\n",
       "├─────────────────────────────────┼────────────────────────┼───────────────┤\n",
       "│ max_pooling2d_1 (<span style=\"color: #0087ff; text-decoration-color: #0087ff\">MaxPooling2D</span>)  │ (<span style=\"color: #00d7ff; text-decoration-color: #00d7ff\">None</span>, <span style=\"color: #00af00; text-decoration-color: #00af00\">54</span>, <span style=\"color: #00af00; text-decoration-color: #00af00\">54</span>, <span style=\"color: #00af00; text-decoration-color: #00af00\">32</span>)     │             <span style=\"color: #00af00; text-decoration-color: #00af00\">0</span> │\n",
       "├─────────────────────────────────┼────────────────────────┼───────────────┤\n",
       "│ conv2d_2 (<span style=\"color: #0087ff; text-decoration-color: #0087ff\">Conv2D</span>)               │ (<span style=\"color: #00d7ff; text-decoration-color: #00d7ff\">None</span>, <span style=\"color: #00af00; text-decoration-color: #00af00\">52</span>, <span style=\"color: #00af00; text-decoration-color: #00af00\">52</span>, <span style=\"color: #00af00; text-decoration-color: #00af00\">64</span>)     │        <span style=\"color: #00af00; text-decoration-color: #00af00\">18,496</span> │\n",
       "├─────────────────────────────────┼────────────────────────┼───────────────┤\n",
       "│ activation_2 (<span style=\"color: #0087ff; text-decoration-color: #0087ff\">Activation</span>)       │ (<span style=\"color: #00d7ff; text-decoration-color: #00d7ff\">None</span>, <span style=\"color: #00af00; text-decoration-color: #00af00\">52</span>, <span style=\"color: #00af00; text-decoration-color: #00af00\">52</span>, <span style=\"color: #00af00; text-decoration-color: #00af00\">64</span>)     │             <span style=\"color: #00af00; text-decoration-color: #00af00\">0</span> │\n",
       "├─────────────────────────────────┼────────────────────────┼───────────────┤\n",
       "│ max_pooling2d_2 (<span style=\"color: #0087ff; text-decoration-color: #0087ff\">MaxPooling2D</span>)  │ (<span style=\"color: #00d7ff; text-decoration-color: #00d7ff\">None</span>, <span style=\"color: #00af00; text-decoration-color: #00af00\">26</span>, <span style=\"color: #00af00; text-decoration-color: #00af00\">26</span>, <span style=\"color: #00af00; text-decoration-color: #00af00\">64</span>)     │             <span style=\"color: #00af00; text-decoration-color: #00af00\">0</span> │\n",
       "├─────────────────────────────────┼────────────────────────┼───────────────┤\n",
       "│ flatten (<span style=\"color: #0087ff; text-decoration-color: #0087ff\">Flatten</span>)               │ (<span style=\"color: #00d7ff; text-decoration-color: #00d7ff\">None</span>, <span style=\"color: #00af00; text-decoration-color: #00af00\">43264</span>)          │             <span style=\"color: #00af00; text-decoration-color: #00af00\">0</span> │\n",
       "├─────────────────────────────────┼────────────────────────┼───────────────┤\n",
       "│ dense (<span style=\"color: #0087ff; text-decoration-color: #0087ff\">Dense</span>)                   │ (<span style=\"color: #00d7ff; text-decoration-color: #00d7ff\">None</span>, <span style=\"color: #00af00; text-decoration-color: #00af00\">64</span>)             │     <span style=\"color: #00af00; text-decoration-color: #00af00\">2,768,960</span> │\n",
       "├─────────────────────────────────┼────────────────────────┼───────────────┤\n",
       "│ activation_3 (<span style=\"color: #0087ff; text-decoration-color: #0087ff\">Activation</span>)       │ (<span style=\"color: #00d7ff; text-decoration-color: #00d7ff\">None</span>, <span style=\"color: #00af00; text-decoration-color: #00af00\">64</span>)             │             <span style=\"color: #00af00; text-decoration-color: #00af00\">0</span> │\n",
       "├─────────────────────────────────┼────────────────────────┼───────────────┤\n",
       "│ dropout (<span style=\"color: #0087ff; text-decoration-color: #0087ff\">Dropout</span>)               │ (<span style=\"color: #00d7ff; text-decoration-color: #00d7ff\">None</span>, <span style=\"color: #00af00; text-decoration-color: #00af00\">64</span>)             │             <span style=\"color: #00af00; text-decoration-color: #00af00\">0</span> │\n",
       "├─────────────────────────────────┼────────────────────────┼───────────────┤\n",
       "│ dense_1 (<span style=\"color: #0087ff; text-decoration-color: #0087ff\">Dense</span>)                 │ (<span style=\"color: #00d7ff; text-decoration-color: #00d7ff\">None</span>, <span style=\"color: #00af00; text-decoration-color: #00af00\">1</span>)              │            <span style=\"color: #00af00; text-decoration-color: #00af00\">65</span> │\n",
       "├─────────────────────────────────┼────────────────────────┼───────────────┤\n",
       "│ activation_4 (<span style=\"color: #0087ff; text-decoration-color: #0087ff\">Activation</span>)       │ (<span style=\"color: #00d7ff; text-decoration-color: #00d7ff\">None</span>, <span style=\"color: #00af00; text-decoration-color: #00af00\">1</span>)              │             <span style=\"color: #00af00; text-decoration-color: #00af00\">0</span> │\n",
       "└─────────────────────────────────┴────────────────────────┴───────────────┘\n",
       "</pre>\n"
      ],
      "text/plain": [
       "┏━━━━━━━━━━━━━━━━━━━━━━━━━━━━━━━━━┳━━━━━━━━━━━━━━━━━━━━━━━━┳━━━━━━━━━━━━━━━┓\n",
       "┃\u001b[1m \u001b[0m\u001b[1mLayer (type)                   \u001b[0m\u001b[1m \u001b[0m┃\u001b[1m \u001b[0m\u001b[1mOutput Shape          \u001b[0m\u001b[1m \u001b[0m┃\u001b[1m \u001b[0m\u001b[1m      Param #\u001b[0m\u001b[1m \u001b[0m┃\n",
       "┡━━━━━━━━━━━━━━━━━━━━━━━━━━━━━━━━━╇━━━━━━━━━━━━━━━━━━━━━━━━╇━━━━━━━━━━━━━━━┩\n",
       "│ conv2d (\u001b[38;5;33mConv2D\u001b[0m)                 │ (\u001b[38;5;45mNone\u001b[0m, \u001b[38;5;34m222\u001b[0m, \u001b[38;5;34m222\u001b[0m, \u001b[38;5;34m32\u001b[0m)   │           \u001b[38;5;34m896\u001b[0m │\n",
       "├─────────────────────────────────┼────────────────────────┼───────────────┤\n",
       "│ activation (\u001b[38;5;33mActivation\u001b[0m)         │ (\u001b[38;5;45mNone\u001b[0m, \u001b[38;5;34m222\u001b[0m, \u001b[38;5;34m222\u001b[0m, \u001b[38;5;34m32\u001b[0m)   │             \u001b[38;5;34m0\u001b[0m │\n",
       "├─────────────────────────────────┼────────────────────────┼───────────────┤\n",
       "│ max_pooling2d (\u001b[38;5;33mMaxPooling2D\u001b[0m)    │ (\u001b[38;5;45mNone\u001b[0m, \u001b[38;5;34m111\u001b[0m, \u001b[38;5;34m111\u001b[0m, \u001b[38;5;34m32\u001b[0m)   │             \u001b[38;5;34m0\u001b[0m │\n",
       "├─────────────────────────────────┼────────────────────────┼───────────────┤\n",
       "│ conv2d_1 (\u001b[38;5;33mConv2D\u001b[0m)               │ (\u001b[38;5;45mNone\u001b[0m, \u001b[38;5;34m109\u001b[0m, \u001b[38;5;34m109\u001b[0m, \u001b[38;5;34m32\u001b[0m)   │         \u001b[38;5;34m9,248\u001b[0m │\n",
       "├─────────────────────────────────┼────────────────────────┼───────────────┤\n",
       "│ activation_1 (\u001b[38;5;33mActivation\u001b[0m)       │ (\u001b[38;5;45mNone\u001b[0m, \u001b[38;5;34m109\u001b[0m, \u001b[38;5;34m109\u001b[0m, \u001b[38;5;34m32\u001b[0m)   │             \u001b[38;5;34m0\u001b[0m │\n",
       "├─────────────────────────────────┼────────────────────────┼───────────────┤\n",
       "│ max_pooling2d_1 (\u001b[38;5;33mMaxPooling2D\u001b[0m)  │ (\u001b[38;5;45mNone\u001b[0m, \u001b[38;5;34m54\u001b[0m, \u001b[38;5;34m54\u001b[0m, \u001b[38;5;34m32\u001b[0m)     │             \u001b[38;5;34m0\u001b[0m │\n",
       "├─────────────────────────────────┼────────────────────────┼───────────────┤\n",
       "│ conv2d_2 (\u001b[38;5;33mConv2D\u001b[0m)               │ (\u001b[38;5;45mNone\u001b[0m, \u001b[38;5;34m52\u001b[0m, \u001b[38;5;34m52\u001b[0m, \u001b[38;5;34m64\u001b[0m)     │        \u001b[38;5;34m18,496\u001b[0m │\n",
       "├─────────────────────────────────┼────────────────────────┼───────────────┤\n",
       "│ activation_2 (\u001b[38;5;33mActivation\u001b[0m)       │ (\u001b[38;5;45mNone\u001b[0m, \u001b[38;5;34m52\u001b[0m, \u001b[38;5;34m52\u001b[0m, \u001b[38;5;34m64\u001b[0m)     │             \u001b[38;5;34m0\u001b[0m │\n",
       "├─────────────────────────────────┼────────────────────────┼───────────────┤\n",
       "│ max_pooling2d_2 (\u001b[38;5;33mMaxPooling2D\u001b[0m)  │ (\u001b[38;5;45mNone\u001b[0m, \u001b[38;5;34m26\u001b[0m, \u001b[38;5;34m26\u001b[0m, \u001b[38;5;34m64\u001b[0m)     │             \u001b[38;5;34m0\u001b[0m │\n",
       "├─────────────────────────────────┼────────────────────────┼───────────────┤\n",
       "│ flatten (\u001b[38;5;33mFlatten\u001b[0m)               │ (\u001b[38;5;45mNone\u001b[0m, \u001b[38;5;34m43264\u001b[0m)          │             \u001b[38;5;34m0\u001b[0m │\n",
       "├─────────────────────────────────┼────────────────────────┼───────────────┤\n",
       "│ dense (\u001b[38;5;33mDense\u001b[0m)                   │ (\u001b[38;5;45mNone\u001b[0m, \u001b[38;5;34m64\u001b[0m)             │     \u001b[38;5;34m2,768,960\u001b[0m │\n",
       "├─────────────────────────────────┼────────────────────────┼───────────────┤\n",
       "│ activation_3 (\u001b[38;5;33mActivation\u001b[0m)       │ (\u001b[38;5;45mNone\u001b[0m, \u001b[38;5;34m64\u001b[0m)             │             \u001b[38;5;34m0\u001b[0m │\n",
       "├─────────────────────────────────┼────────────────────────┼───────────────┤\n",
       "│ dropout (\u001b[38;5;33mDropout\u001b[0m)               │ (\u001b[38;5;45mNone\u001b[0m, \u001b[38;5;34m64\u001b[0m)             │             \u001b[38;5;34m0\u001b[0m │\n",
       "├─────────────────────────────────┼────────────────────────┼───────────────┤\n",
       "│ dense_1 (\u001b[38;5;33mDense\u001b[0m)                 │ (\u001b[38;5;45mNone\u001b[0m, \u001b[38;5;34m1\u001b[0m)              │            \u001b[38;5;34m65\u001b[0m │\n",
       "├─────────────────────────────────┼────────────────────────┼───────────────┤\n",
       "│ activation_4 (\u001b[38;5;33mActivation\u001b[0m)       │ (\u001b[38;5;45mNone\u001b[0m, \u001b[38;5;34m1\u001b[0m)              │             \u001b[38;5;34m0\u001b[0m │\n",
       "└─────────────────────────────────┴────────────────────────┴───────────────┘\n"
      ]
     },
     "metadata": {},
     "output_type": "display_data"
    },
    {
     "data": {
      "text/html": [
       "<pre style=\"white-space:pre;overflow-x:auto;line-height:normal;font-family:Menlo,'DejaVu Sans Mono',consolas,'Courier New',monospace\"><span style=\"font-weight: bold\"> Total params: </span><span style=\"color: #00af00; text-decoration-color: #00af00\">2,797,665</span> (10.67 MB)\n",
       "</pre>\n"
      ],
      "text/plain": [
       "\u001b[1m Total params: \u001b[0m\u001b[38;5;34m2,797,665\u001b[0m (10.67 MB)\n"
      ]
     },
     "metadata": {},
     "output_type": "display_data"
    },
    {
     "data": {
      "text/html": [
       "<pre style=\"white-space:pre;overflow-x:auto;line-height:normal;font-family:Menlo,'DejaVu Sans Mono',consolas,'Courier New',monospace\"><span style=\"font-weight: bold\"> Trainable params: </span><span style=\"color: #00af00; text-decoration-color: #00af00\">2,797,665</span> (10.67 MB)\n",
       "</pre>\n"
      ],
      "text/plain": [
       "\u001b[1m Trainable params: \u001b[0m\u001b[38;5;34m2,797,665\u001b[0m (10.67 MB)\n"
      ]
     },
     "metadata": {},
     "output_type": "display_data"
    },
    {
     "data": {
      "text/html": [
       "<pre style=\"white-space:pre;overflow-x:auto;line-height:normal;font-family:Menlo,'DejaVu Sans Mono',consolas,'Courier New',monospace\"><span style=\"font-weight: bold\"> Non-trainable params: </span><span style=\"color: #00af00; text-decoration-color: #00af00\">0</span> (0.00 B)\n",
       "</pre>\n"
      ],
      "text/plain": [
       "\u001b[1m Non-trainable params: \u001b[0m\u001b[38;5;34m0\u001b[0m (0.00 B)\n"
      ]
     },
     "metadata": {},
     "output_type": "display_data"
    }
   ],
   "source": [
    "cnn_model = Sequential()\n",
    "# Создаем стек слоев, каждый из которых имеет один входной и один выходной вектор (последовательная модель)\n",
    "\n",
    "cnn_model.add(Conv2D(32, (3, 3), input_shape=(IMAGE_SIZE[0], IMAGE_SIZE[1], 3)))\n",
    "#Задаем слой 2D свертки. \n",
    "#Первый аргумент - представляет количество фильтров, на основе которых обучается сверточный уровень, так называемая глубина тензора\n",
    "#Второй аргумент - размер ядра фильтра. В данном случае он представляет собой квадратную матрицу 3*3\n",
    "#Третий аргумент - размер входных данных - длина * ширина * 3 (150 * 150 * 3)\n",
    "\n",
    "cnn_model.add(Activation('relu'))\n",
    "# Слой функции активации (в нашем случае - функции активации RELU)\n",
    "# Заметим, что ничего не мешает вписать эту функцию внутрь предыдущего слоя, результат от этого не изменится\n",
    "\n",
    "cnn_model.add(MaxPooling2D(pool_size=(2, 2)))\n",
    "# Операция выбора максимального значения из соседних, \"агрессивное\" уменьшение разрешения карты признаков\n",
    "# В данном случае выбор максимального среди четырех значений квадратной матрицы 2*2\n",
    "\n",
    "cnn_model.add(Conv2D(32, (3, 3)))\n",
    "#Задаем слой 2D свертки. \n",
    "#Первый аргумент - представляет количество фильтров, на основе которых обучается сверточный уровень, так называемая глубина тензора\n",
    "#Второй аргумент - размер ядра фильтра. В данном случае он представляет собой квадратную матрицу 3*3\n",
    "\n",
    "cnn_model.add(Activation('relu'))\n",
    "# Слой функции активации (в нашем случае - функции активации RELU)\n",
    "# Заметим, что ничего не мешает вписать эту функцию внутрь предыдущего слоя, результат от этого не изменится\n",
    "\n",
    "cnn_model.add(MaxPooling2D(pool_size=(2, 2)))\n",
    "# Операция выбора максимального значения из соседних, \"агрессивное\" уменьшение разрешения карты признаков\n",
    "# В данном случае выбор максимального среди четырех значений квадратной матрицы 2*2\n",
    "\n",
    "cnn_model.add(Conv2D(64, (3, 3)))\n",
    "#Задаем слой 2D свертки. \n",
    "#Первый аргумент - представляет количество фильтров, на основе которых обучается сверточный уровень, так называемая глубина тензора\n",
    "#Второй аргумент - размер ядра фильтра. В данном случае он представляет собой квадратную матрицу 3*3\n",
    "\n",
    "cnn_model.add(Activation('relu'))\n",
    "# Слой функции активации (в нашем случае - функции активации RELU)\n",
    "# Заметим, что ничего не мешает вписать эту функцию внутрь предыдущего слоя, результат от этого не изменится\n",
    "\n",
    "cnn_model.add(MaxPooling2D(pool_size=(2, 2)))\n",
    "# Операция выбора максимального значения из соседних, \"агрессивное\" уменьшение разрешения карты признаков\n",
    "# В данном случае выбор максимального среди четырех значений квадратной матрицы 2*2\n",
    "\n",
    "cnn_model.add(Flatten())\n",
    "# Преобразует входные данные в один большой одномерный массив\n",
    "\n",
    "cnn_model.add(Dense(64))\n",
    "# Обычный слой нейронной сети с плотным соединением\n",
    "# Первый аргумент -  Положительное число. Размерность выходного пространства. Он определяет, сколько нейронов будет в этом слое\n",
    "\n",
    "cnn_model.add(Activation('relu'))\n",
    "# Слой функции активации (в нашем случае - функции активации RELU)\n",
    "# Заметим, что ничего не мешает вписать эту функцию внутрь предыдущего слоя, результат от этого не изменится\n",
    "\n",
    "cnn_model.add(Dropout(0.5))\n",
    "# Данный слой зануляет случайно выбранные признаки\n",
    "# Первый аргумент соответствует доле отбрасываемых признаков\n",
    "\n",
    "cnn_model.add(Dense(1))\n",
    "# Обычный слой нейронной сети с плотным соединением\n",
    "# Первый аргумент -  Положительное число. Размерность выходного пространства. Он определяет, сколько нейронов будет в этом слое\n",
    "cnn_model.add(Activation('sigmoid'))\n",
    "# Слой функции активации (в нашем случае - функции активации sigmoid)\n",
    "# Заметим, что ничего не мешает вписать эту функцию внутрь предыдущего слоя, результат от этого не изменится\n",
    "\n",
    "cnn_model.summary()"
   ]
  },
  {
   "cell_type": "markdown",
   "metadata": {},
   "source": [
    "## ResNet50"
   ]
  },
  {
   "cell_type": "markdown",
   "metadata": {},
   "source": [
    "### Настройка модели ResNet50"
   ]
  },
  {
   "cell_type": "code",
   "execution_count": 5,
   "metadata": {
    "ExecuteTime": {
     "end_time": "2024-04-18T18:07:08.660859900Z",
     "start_time": "2024-04-18T18:07:08.643347600Z"
    }
   },
   "outputs": [],
   "source": [
    "def get_resnet_model():\n",
    "    # Загружаем базовую модель ResNet50V2 с предобученными весами 'imagenet', без верхнего уровня (include_top=False)\n",
    "    base_model = ResNet50V2(weights='imagenet', include_top=False, input_shape=(IMAGE_SIZE[0], IMAGE_SIZE[1], 3))\n",
    "    \n",
    "    # Замораживаем все слои базовой модели, чтобы их веса не изменялись во время обучения\n",
    "    for layer in base_model.layers:\n",
    "        layer.trainable = False\n",
    "    \n",
    "    # Добавляем глобальный средний слой пуллинга после базовой модели\n",
    "    x = base_model.output\n",
    "    x = GlobalAveragePooling2D()(x)\n",
    "    \n",
    "    # Добавляем полносвязный слой с 512 нейронами и функцией активации ReLU\n",
    "    x = Dense(512, activation='relu')(x)\n",
    "    \n",
    "    # Добавляем слой Dropout с вероятностью 0.5 для регуляризации\n",
    "    x = Dropout(0.5)(x)\n",
    "    \n",
    "    # Добавляем выходной слой с одним нейроном и сигмоидной активацией для бинарной классификации\n",
    "    predictions = Dense(1, activation='sigmoid')(x)\n",
    "    \n",
    "    # Создаем финальную модель, объединяя базовую модель и новые добавленные слои\n",
    "    model = Model(inputs=base_model.input, outputs=predictions)\n",
    "    \n",
    "    return model"
   ]
  },
  {
   "cell_type": "markdown",
   "metadata": {},
   "source": [
    "## Обучение и сравнение моделей CNN и ResNet50"
   ]
  },
  {
   "cell_type": "code",
   "execution_count": 6,
   "metadata": {},
   "outputs": [],
   "source": [
    "# Компиляция модели CNN\n",
    "cnn_model.compile(\n",
    "    optimizer='adam',  # Оптимизатор Adam для обучения модели\n",
    "    loss='binary_crossentropy',  # Функция потерь для задачи бинарной классификации\n",
    "    metrics=[\n",
    "        'accuracy',  # Метрика для отслеживания точности\n",
    "        Precision(name='precision'),  # Метрика для отслеживания точности (precision)\n",
    "        Recall(name='recall')  # Метрика для отслеживания полноты (recall)\n",
    "    ]\n",
    ")\n",
    "\n",
    "# Получаем модель ResNet50V2\n",
    "resnet_model = get_resnet_model()\n",
    "\n",
    "# Компиляция модели ResNet50V2\n",
    "resnet_model.compile(\n",
    "    optimizer='adam',  # Оптимизатор Adam для обучения модели\n",
    "    loss='binary_crossentropy',  # Функция потерь для задачи бинарной классификации\n",
    "    metrics=[\n",
    "        'accuracy',  # Метрика для отслеживания точности\n",
    "        Precision(name='precision'),  # Метрика для отслеживания точности (precision)\n",
    "        Recall(name='recall')  # Метрика для отслеживания полноты (recall)\n",
    "    ]\n",
    ")\n"
   ]
  },
  {
   "cell_type": "code",
   "execution_count": 9,
   "metadata": {},
   "outputs": [
    {
     "name": "stdout",
     "output_type": "stream",
     "text": [
      "Epoch 1/15\n",
      "\u001b[1m315/315\u001b[0m \u001b[32m━━━━━━━━━━━━━━━━━━━━\u001b[0m\u001b[37m\u001b[0m \u001b[1m265s\u001b[0m 835ms/step - accuracy: 0.9018 - loss: 0.2597 - precision: 0.9469 - recall: 0.9199 - val_accuracy: 0.8650 - val_loss: 0.3261 - val_precision: 0.8230 - val_recall: 0.9300\n",
      "Epoch 2/15\n",
      "\u001b[1m315/315\u001b[0m \u001b[32m━━━━━━━━━━━━━━━━━━━━\u001b[0m\u001b[37m\u001b[0m \u001b[1m245s\u001b[0m 763ms/step - accuracy: 0.9029 - loss: 0.2287 - precision: 0.9529 - recall: 0.9148 - val_accuracy: 0.9050 - val_loss: 0.2985 - val_precision: 0.8584 - val_recall: 0.9700\n",
      "Epoch 3/15\n",
      "\u001b[1m315/315\u001b[0m \u001b[32m━━━━━━━━━━━━━━━━━━━━\u001b[0m\u001b[37m\u001b[0m \u001b[1m235s\u001b[0m 737ms/step - accuracy: 0.8942 - loss: 0.2531 - precision: 0.9487 - recall: 0.9085 - val_accuracy: 0.9150 - val_loss: 0.2638 - val_precision: 0.9192 - val_recall: 0.9100\n",
      "Epoch 4/15\n",
      "\u001b[1m315/315\u001b[0m \u001b[32m━━━━━━━━━━━━━━━━━━━━\u001b[0m\u001b[37m\u001b[0m \u001b[1m235s\u001b[0m 736ms/step - accuracy: 0.9049 - loss: 0.2460 - precision: 0.9506 - recall: 0.9199 - val_accuracy: 0.8750 - val_loss: 0.3082 - val_precision: 0.8205 - val_recall: 0.9600\n",
      "Epoch 5/15\n",
      "\u001b[1m315/315\u001b[0m \u001b[32m━━━━━━━━━━━━━━━━━━━━\u001b[0m\u001b[37m\u001b[0m \u001b[1m234s\u001b[0m 734ms/step - accuracy: 0.9124 - loss: 0.2243 - precision: 0.9554 - recall: 0.9283 - val_accuracy: 0.8850 - val_loss: 0.2955 - val_precision: 0.8235 - val_recall: 0.9800\n",
      "Epoch 6/15\n",
      "\u001b[1m315/315\u001b[0m \u001b[32m━━━━━━━━━━━━━━━━━━━━\u001b[0m\u001b[37m\u001b[0m \u001b[1m244s\u001b[0m 766ms/step - accuracy: 0.9110 - loss: 0.2227 - precision: 0.9533 - recall: 0.9283 - val_accuracy: 0.9250 - val_loss: 0.2450 - val_precision: 0.9775 - val_recall: 0.8700\n",
      "Epoch 7/15\n",
      "\u001b[1m315/315\u001b[0m \u001b[32m━━━━━━━━━━━━━━━━━━━━\u001b[0m\u001b[37m\u001b[0m \u001b[1m271s\u001b[0m 845ms/step - accuracy: 0.9182 - loss: 0.2211 - precision: 0.9590 - recall: 0.9300 - val_accuracy: 0.9400 - val_loss: 0.2496 - val_precision: 0.9400 - val_recall: 0.9400\n",
      "Epoch 8/15\n",
      "\u001b[1m315/315\u001b[0m \u001b[32m━━━━━━━━━━━━━━━━━━━━\u001b[0m\u001b[37m\u001b[0m \u001b[1m285s\u001b[0m 893ms/step - accuracy: 0.9134 - loss: 0.2242 - precision: 0.9560 - recall: 0.9282 - val_accuracy: 0.9050 - val_loss: 0.2969 - val_precision: 0.8522 - val_recall: 0.9800\n",
      "Epoch 9/15\n",
      "\u001b[1m315/315\u001b[0m \u001b[32m━━━━━━━━━━━━━━━━━━━━\u001b[0m\u001b[37m\u001b[0m \u001b[1m241s\u001b[0m 753ms/step - accuracy: 0.9149 - loss: 0.2096 - precision: 0.9558 - recall: 0.9297 - val_accuracy: 0.9500 - val_loss: 0.1947 - val_precision: 0.9592 - val_recall: 0.9400\n",
      "Epoch 10/15\n",
      "\u001b[1m315/315\u001b[0m \u001b[32m━━━━━━━━━━━━━━━━━━━━\u001b[0m\u001b[37m\u001b[0m \u001b[1m258s\u001b[0m 809ms/step - accuracy: 0.9108 - loss: 0.2190 - precision: 0.9523 - recall: 0.9269 - val_accuracy: 0.9700 - val_loss: 0.1849 - val_precision: 0.9700 - val_recall: 0.9700\n",
      "Epoch 11/15\n",
      "\u001b[1m315/315\u001b[0m \u001b[32m━━━━━━━━━━━━━━━━━━━━\u001b[0m\u001b[37m\u001b[0m \u001b[1m230s\u001b[0m 721ms/step - accuracy: 0.9195 - loss: 0.1909 - precision: 0.9644 - recall: 0.9273 - val_accuracy: 0.8200 - val_loss: 0.4306 - val_precision: 0.7353 - val_recall: 1.0000\n",
      "Epoch 12/15\n",
      "\u001b[1m315/315\u001b[0m \u001b[32m━━━━━━━━━━━━━━━━━━━━\u001b[0m\u001b[37m\u001b[0m \u001b[1m227s\u001b[0m 710ms/step - accuracy: 0.9185 - loss: 0.2013 - precision: 0.9561 - recall: 0.9349 - val_accuracy: 0.9300 - val_loss: 0.1907 - val_precision: 0.9479 - val_recall: 0.9100\n",
      "Epoch 13/15\n",
      "\u001b[1m315/315\u001b[0m \u001b[32m━━━━━━━━━━━━━━━━━━━━\u001b[0m\u001b[37m\u001b[0m \u001b[1m233s\u001b[0m 730ms/step - accuracy: 0.9220 - loss: 0.2011 - precision: 0.9631 - recall: 0.9328 - val_accuracy: 0.9250 - val_loss: 0.2152 - val_precision: 0.9293 - val_recall: 0.9200\n",
      "Epoch 14/15\n",
      "\u001b[1m315/315\u001b[0m \u001b[32m━━━━━━━━━━━━━━━━━━━━\u001b[0m\u001b[37m\u001b[0m \u001b[1m230s\u001b[0m 720ms/step - accuracy: 0.9173 - loss: 0.2032 - precision: 0.9631 - recall: 0.9263 - val_accuracy: 0.9400 - val_loss: 0.2000 - val_precision: 0.9490 - val_recall: 0.9300\n",
      "Epoch 15/15\n",
      "\u001b[1m315/315\u001b[0m \u001b[32m━━━━━━━━━━━━━━━━━━━━\u001b[0m\u001b[37m\u001b[0m \u001b[1m241s\u001b[0m 754ms/step - accuracy: 0.9327 - loss: 0.1758 - precision: 0.9691 - recall: 0.9412 - val_accuracy: 0.9000 - val_loss: 0.2791 - val_precision: 0.8922 - val_recall: 0.9100\n",
      "\u001b[1m39/39\u001b[0m \u001b[32m━━━━━━━━━━━━━━━━━━━━\u001b[0m\u001b[37m\u001b[0m \u001b[1m12s\u001b[0m 311ms/step - accuracy: 0.8599 - loss: 0.4204 - precision: 0.8336 - recall: 0.9761\n",
      "Время обучения модели CNN: 3676.61 секунд.\n",
      "Epoch 1/15\n",
      "\u001b[1m315/315\u001b[0m \u001b[32m━━━━━━━━━━━━━━━━━━━━\u001b[0m\u001b[37m\u001b[0m \u001b[1m372s\u001b[0m 1s/step - accuracy: 0.9449 - loss: 0.1466 - precision: 0.9621 - recall: 0.9648 - val_accuracy: 0.9700 - val_loss: 0.0908 - val_precision: 0.9796 - val_recall: 0.9600\n",
      "Epoch 2/15\n",
      "\u001b[1m315/315\u001b[0m \u001b[32m━━━━━━━━━━━━━━━━━━━━\u001b[0m\u001b[37m\u001b[0m \u001b[1m392s\u001b[0m 1s/step - accuracy: 0.9419 - loss: 0.1447 - precision: 0.9620 - recall: 0.9603 - val_accuracy: 0.9650 - val_loss: 0.1010 - val_precision: 0.9697 - val_recall: 0.9600\n",
      "Epoch 3/15\n",
      "\u001b[1m315/315\u001b[0m \u001b[32m━━━━━━━━━━━━━━━━━━━━\u001b[0m\u001b[37m\u001b[0m \u001b[1m372s\u001b[0m 1s/step - accuracy: 0.9424 - loss: 0.1401 - precision: 0.9607 - recall: 0.9635 - val_accuracy: 0.9350 - val_loss: 0.1414 - val_precision: 0.9888 - val_recall: 0.8800\n",
      "Epoch 4/15\n",
      "\u001b[1m315/315\u001b[0m \u001b[32m━━━━━━━━━━━━━━━━━━━━\u001b[0m\u001b[37m\u001b[0m \u001b[1m387s\u001b[0m 1s/step - accuracy: 0.9478 - loss: 0.1320 - precision: 0.9689 - recall: 0.9618 - val_accuracy: 0.9550 - val_loss: 0.1176 - val_precision: 0.9892 - val_recall: 0.9200\n",
      "Epoch 5/15\n",
      "\u001b[1m315/315\u001b[0m \u001b[32m━━━━━━━━━━━━━━━━━━━━\u001b[0m\u001b[37m\u001b[0m \u001b[1m374s\u001b[0m 1s/step - accuracy: 0.9518 - loss: 0.1319 - precision: 0.9693 - recall: 0.9659 - val_accuracy: 0.9700 - val_loss: 0.1001 - val_precision: 0.9896 - val_recall: 0.9500\n",
      "Epoch 6/15\n",
      "\u001b[1m315/315\u001b[0m \u001b[32m━━━━━━━━━━━━━━━━━━━━\u001b[0m\u001b[37m\u001b[0m \u001b[1m380s\u001b[0m 1s/step - accuracy: 0.9485 - loss: 0.1294 - precision: 0.9654 - recall: 0.9662 - val_accuracy: 0.9600 - val_loss: 0.1059 - val_precision: 0.9792 - val_recall: 0.9400\n",
      "Epoch 7/15\n",
      "\u001b[1m315/315\u001b[0m \u001b[32m━━━━━━━━━━━━━━━━━━━━\u001b[0m\u001b[37m\u001b[0m \u001b[1m340s\u001b[0m 1s/step - accuracy: 0.9501 - loss: 0.1288 - precision: 0.9650 - recall: 0.9692 - val_accuracy: 0.9600 - val_loss: 0.1015 - val_precision: 0.9510 - val_recall: 0.9700\n",
      "Epoch 8/15\n",
      "\u001b[1m315/315\u001b[0m \u001b[32m━━━━━━━━━━━━━━━━━━━━\u001b[0m\u001b[37m\u001b[0m \u001b[1m339s\u001b[0m 1s/step - accuracy: 0.9440 - loss: 0.1414 - precision: 0.9587 - recall: 0.9672 - val_accuracy: 0.9700 - val_loss: 0.0853 - val_precision: 0.9700 - val_recall: 0.9700\n",
      "Epoch 9/15\n",
      "\u001b[1m315/315\u001b[0m \u001b[32m━━━━━━━━━━━━━━━━━━━━\u001b[0m\u001b[37m\u001b[0m \u001b[1m338s\u001b[0m 1s/step - accuracy: 0.9460 - loss: 0.1429 - precision: 0.9620 - recall: 0.9660 - val_accuracy: 0.9550 - val_loss: 0.1190 - val_precision: 0.9892 - val_recall: 0.9200\n",
      "Epoch 10/15\n",
      "\u001b[1m315/315\u001b[0m \u001b[32m━━━━━━━━━━━━━━━━━━━━\u001b[0m\u001b[37m\u001b[0m \u001b[1m341s\u001b[0m 1s/step - accuracy: 0.9456 - loss: 0.1277 - precision: 0.9626 - recall: 0.9665 - val_accuracy: 0.9750 - val_loss: 0.0867 - val_precision: 0.9897 - val_recall: 0.9600\n",
      "Epoch 11/15\n",
      "\u001b[1m315/315\u001b[0m \u001b[32m━━━━━━━━━━━━━━━━━━━━\u001b[0m\u001b[37m\u001b[0m \u001b[1m342s\u001b[0m 1s/step - accuracy: 0.9468 - loss: 0.1366 - precision: 0.9638 - recall: 0.9655 - val_accuracy: 0.9700 - val_loss: 0.0996 - val_precision: 0.9896 - val_recall: 0.9500\n",
      "Epoch 12/15\n",
      "\u001b[1m315/315\u001b[0m \u001b[32m━━━━━━━━━━━━━━━━━━━━\u001b[0m\u001b[37m\u001b[0m \u001b[1m341s\u001b[0m 1s/step - accuracy: 0.9474 - loss: 0.1333 - precision: 0.9620 - recall: 0.9678 - val_accuracy: 0.9550 - val_loss: 0.1093 - val_precision: 0.9892 - val_recall: 0.9200\n",
      "Epoch 13/15\n",
      "\u001b[1m315/315\u001b[0m \u001b[32m━━━━━━━━━━━━━━━━━━━━\u001b[0m\u001b[37m\u001b[0m \u001b[1m340s\u001b[0m 1s/step - accuracy: 0.9510 - loss: 0.1218 - precision: 0.9666 - recall: 0.9677 - val_accuracy: 0.9450 - val_loss: 0.1298 - val_precision: 0.9890 - val_recall: 0.9000\n",
      "Epoch 14/15\n",
      "\u001b[1m315/315\u001b[0m \u001b[32m━━━━━━━━━━━━━━━━━━━━\u001b[0m\u001b[37m\u001b[0m \u001b[1m340s\u001b[0m 1s/step - accuracy: 0.9507 - loss: 0.1237 - precision: 0.9694 - recall: 0.9653 - val_accuracy: 0.9650 - val_loss: 0.0967 - val_precision: 0.9794 - val_recall: 0.9500\n",
      "Epoch 15/15\n",
      "\u001b[1m315/315\u001b[0m \u001b[32m━━━━━━━━━━━━━━━━━━━━\u001b[0m\u001b[37m\u001b[0m \u001b[1m346s\u001b[0m 1s/step - accuracy: 0.9515 - loss: 0.1329 - precision: 0.9685 - recall: 0.9672 - val_accuracy: 0.9600 - val_loss: 0.1022 - val_precision: 0.9792 - val_recall: 0.9400\n",
      "\u001b[1m39/39\u001b[0m \u001b[32m━━━━━━━━━━━━━━━━━━━━\u001b[0m\u001b[37m\u001b[0m \u001b[1m36s\u001b[0m 905ms/step - accuracy: 0.9143 - loss: 0.2318 - precision: 0.8993 - recall: 0.9619\n",
      "Время обучения модели ResNet50: 5346.08 секунд.\n",
      "      Метрика/Модель        CNN   ResNet50\n",
      "0     Train accuracy   0.925874   0.949324\n",
      "1   Train F1 average    0.90099   0.959184\n",
      "2      Test accuracy   0.404809    0.23939\n",
      "3    Test F1 average   0.835831    0.91242\n",
      "4  Training time (s)  3676.61 s  5346.08 s\n"
     ]
    }
   ],
   "source": [
    "def train_model_with_timing(model, train_generator, val_generator, test_generator, epochs, model_name):\n",
    "    start_time = time.time()  # Запоминаем время начала обучения\n",
    "    history = model.fit(\n",
    "        train_generator,\n",
    "        epochs=epochs,\n",
    "        validation_data=val_generator,\n",
    "        callbacks=[ModelCheckpoint(f\"{model_name}_best_model.keras\", monitor='val_accuracy', save_best_only=True)]  # Сохранение наилучшей модели\n",
    "    )\n",
    "    end_time = time.time()  # Запоминаем время окончания обучения\n",
    "    training_time = end_time - start_time  # Вычисляем время обучения\n",
    "\n",
    "    # Вычисляем F1 для валидации\n",
    "    val_precision = history.history.get('val_precision', [-1])[-1]  # Точность на валидационных данных\n",
    "    val_recall = history.history.get('val_recall', [-1])[-1]  # Полнота на валидационных данных\n",
    "    val_f1_score = 2 * (val_precision * val_recall) / (val_precision + val_recall) if (val_precision + val_recall) != 0 else 0  # Вычисление F1-метрики\n",
    "\n",
    "    # Вычисляем F1 для теста\n",
    "    test_results = model.evaluate(test_generator)  # Оценка модели на тестовых данных\n",
    "    test_precision = test_results[1]  # Точность на тестовых данных\n",
    "    test_recall = test_results[2]  # Полнота на тестовых данных\n",
    "    test_f1_score = 2 * (test_precision * test_recall) / (test_precision + test_recall) if (test_precision + test_recall) != 0 else 0  # Вычисление F1-метрики\n",
    "\n",
    "    print(f\"Время обучения модели {model_name}: {training_time:.2f} секунд.\")  # Вывод времени обучения\n",
    "    return {\n",
    "        \"train_accuracy\": history.history['accuracy'][-1],  # Точность на обучающих данных\n",
    "        \"train_f1\": val_f1_score,  # F1-метрика на валидационных данных\n",
    "        \"test_accuracy\": test_results[0],  # Точность на тестовых данных\n",
    "        \"test_f1\": test_f1_score,  # F1-метрика на тестовых данных\n",
    "        \"training_time\": f\"{training_time:.2f} s\"  # Время обучения в секундах\n",
    "    }\n",
    "\n",
    "# Обучение и оценка моделей\n",
    "cnn_metrics = train_model_with_timing(cnn_model, train_generator, val_generator, test_generator, EPOCHS, \"CNN\")\n",
    "resnet_metrics = train_model_with_timing(resnet_model, train_generator, val_generator, test_generator, EPOCHS, \"ResNet50\")\n",
    "\n",
    "# Создание и вывод таблицы с результатами\n",
    "results_df = pd.DataFrame({\n",
    "    'Метрика/Модель': ['Train accuracy', 'Train F1 average', 'Test accuracy', 'Test F1 average', 'Training time (s)'],\n",
    "    'CNN': [\n",
    "        cnn_metrics['train_accuracy'],  # Точность на обучающих данных для CNN\n",
    "        cnn_metrics['train_f1'],  # F1-метрика на валидационных данных для CNN\n",
    "        cnn_metrics['test_accuracy'],  # Точность на тестовых данных для CNN\n",
    "        cnn_metrics['test_f1'],  # F1-метрика на тестовых данных для CNN\n",
    "        cnn_metrics['training_time']  # Время обучения для CNN\n",
    "    ],\n",
    "    'ResNet50': [\n",
    "        resnet_metrics['train_accuracy'],  # Точность на обучающих данных для ResNet50\n",
    "        resnet_metrics['train_f1'],  # F1-метрика на валидационных данных для ResNet50\n",
    "        resnet_metrics['test_accuracy'],  # Точность на тестовых данных для ResNet50\n",
    "        resnet_metrics['test_f1'],  # F1-метрика на тестовых данных для ResNet50\n",
    "        resnet_metrics['training_time']  # Время обучения для ResNet50\n",
    "    ]\n",
    "})\n",
    "\n",
    "print(results_df)  # Вывод таблицы с результатами"
   ]
  },
  {
   "cell_type": "code",
   "execution_count": 11,
   "metadata": {},
   "outputs": [],
   "source": [
    "# Сохранение модели ResNet-50\n",
    "resnet_model.save_weights('ResNet50_best_model.keras')"
   ]
  }
 ],
 "metadata": {
  "kernelspec": {
   "display_name": ".venv",
   "language": "python",
   "name": "python3"
  },
  "language_info": {
   "codemirror_mode": {
    "name": "ipython",
    "version": 3
   },
   "file_extension": ".py",
   "mimetype": "text/x-python",
   "name": "python",
   "nbconvert_exporter": "python",
   "pygments_lexer": "ipython3",
   "version": "3.12.1"
  },
  "orig_nbformat": 4
 },
 "nbformat": 4,
 "nbformat_minor": 2
}
